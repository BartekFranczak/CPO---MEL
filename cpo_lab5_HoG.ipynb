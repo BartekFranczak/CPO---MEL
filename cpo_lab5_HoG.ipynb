{
  "nbformat": 4,
  "nbformat_minor": 0,
  "metadata": {
    "colab": {
      "provenance": [],
      "authorship_tag": "ABX9TyPFxer4DQnaiecrntwwld+Z",
      "include_colab_link": true
    },
    "kernelspec": {
      "name": "python3",
      "display_name": "Python 3"
    },
    "language_info": {
      "name": "python"
    }
  },
  "cells": [
    {
      "cell_type": "markdown",
      "metadata": {
        "id": "view-in-github",
        "colab_type": "text"
      },
      "source": [
        "<a href=\"https://colab.research.google.com/github/BartekFranczak/CPO---MEL/blob/main/cpo_lab5_HoG.ipynb\" target=\"_parent\"><img src=\"https://colab.research.google.com/assets/colab-badge.svg\" alt=\"Open In Colab\"/></a>"
      ]
    },
    {
      "cell_type": "markdown",
      "source": [
        "Zaladowana baza danych"
      ],
      "metadata": {
        "id": "J0czPzIPABEz"
      }
    },
    {
      "cell_type": "code",
      "execution_count": 6,
      "metadata": {
        "colab": {
          "base_uri": "https://localhost:8080/"
        },
        "id": "t1cq8i5988oH",
        "outputId": "ea3a7a93-3c54-4778-ca5c-e8ef99846664"
      },
      "outputs": [
        {
          "output_type": "stream",
          "name": "stdout",
          "text": [
            "Ścieżki do danych uczących: ['/content/train_img/00.png', '/content/train_img/01.png', '/content/train_img/02.png', '/content/train_img/03.png', '/content/train_img/04.png', '/content/train_img/05.png', '/content/train_img/06.png', '/content/train_img/07.png', '/content/train_img/08.png', '/content/train_img/09.png', '/content/train_img/10.png', '/content/train_img/11.png', '/content/train_img/12.png', '/content/train_img/13.png', '/content/train_img/14.png', '/content/train_img/15.png', '/content/train_img/16.png', '/content/train_img/17.png', '/content/train_img/18.png', '/content/train_img/19.png', '/content/train_img/20.png', '/content/train_img/21.png', '/content/train_img/22.png', '/content/train_img/23.png', '/content/train_img/24.png', '/content/train_img/25.png', '/content/train_img/26.png', '/content/train_img/27.png', '/content/train_img/28.png', '/content/train_img/29.png', '/content/train_img/30.png', '/content/train_img/31.png', '/content/train_img/32.png', '/content/train_img/33.png', '/content/train_img/34.png', '/content/train_img/35.png', '/content/train_img/36.png', '/content/train_img/37.png', '/content/train_img/38.png', '/content/train_img/39.png', '/content/train_img/40.png', '/content/train_img/41.png', '/content/train_img/42.png', '/content/train_img/43.png', '/content/train_img/44.png', '/content/train_img/45.png', '/content/train_img/46.png', '/content/train_img/47.png', '/content/train_img/48.png', '/content/train_img/49.png', '/content/train_img/50.png', '/content/train_img/51.png', '/content/train_img/52.png', '/content/train_img/53.png', '/content/train_img/54.png', '/content/train_img/55.png', '/content/train_img/56.png', '/content/train_img/57.png', '/content/train_img/58.png', '/content/train_img/59.png', '/content/train_img/60.png', '/content/train_img/61.png', '/content/train_img/62.png', '/content/train_img/63.png', '/content/train_img/64.png', '/content/train_img/65.png', '/content/train_img/66.png', '/content/train_img/67.png', '/content/train_img/68.png', '/content/train_img/69.png', '/content/train_img/70.png', '/content/train_img/71.png', '/content/train_img/72.png', '/content/train_img/73.png', '/content/train_img/74.png', '/content/train_img/75.png', '/content/train_img/76.png', '/content/train_img/77.png', '/content/train_img/78.png', '/content/train_img/79.png']\n",
            "Ścieżki do danych walidacyjnych: ['/content/test_img/00.png', '/content/test_img/01.png', '/content/test_img/02.png', '/content/test_img/03.png', '/content/test_img/04.png', '/content/test_img/05.png', '/content/test_img/06.png', '/content/test_img/07.png', '/content/test_img/08.png', '/content/test_img/09.png', '/content/test_img/10.png', '/content/test_img/11.png', '/content/test_img/12.png', '/content/test_img/13.png', '/content/test_img/14.png', '/content/test_img/15.png', '/content/test_img/16.png', '/content/test_img/17.png', '/content/test_img/18.png', '/content/test_img/19.png']\n",
            "Etykiety danych uczących: [0, 0, 0, 0, 0, 0, 0, 0, 0, 0, 0, 0, 0, 0, 0, 0, 0, 0, 0, 0, 0, 0, 0, 0, 0, 0, 0, 0, 0, 0, 0, 0, 0, 0, 0, 0, 0, 0, 0, 0, 0, 0, 0, 0, 0, 0, 0, 0, 1, 1, 1, 1, 1, 1, 1, 1, 1, 1, 1, 1, 1, 1, 1, 1, 1, 1, 1, 1, 1, 1, 1, 1, 1, 1, 1, 1, 1, 1, 1, 1]\n",
            "Etykiety danych walidacyjnych: [0, 0, 0, 0, 0, 0, 0, 0, 0, 0, 0, 0, 1, 1, 1, 1, 1, 1, 1, 1]\n"
          ]
        }
      ],
      "source": [
        "# Wczytanie bazy obrazów\n",
        "import os\n",
        "from zipfile import ZipFile\n",
        "\n",
        "def readCPOdataset(datasetPath):\n",
        "  with ZipFile(datasetPath, 'r') as zip:\n",
        "    zip.extractall()\n",
        "  folder = os.path.dirname(datasetPath)  \n",
        "\n",
        "  trainImg = [os.path.join(folder + '/train_img', f) for f in os.listdir(folder + '/train_img') if os.path.isfile(os.path.join(folder + '/train_img', f))]\n",
        "  testImg = [os.path.join(folder + '/test_img', f) for f in os.listdir(folder + '/test_img') if os.path.isfile(os.path.join(folder + '/test_img', f))]\n",
        "  trainImg.sort()\n",
        "  testImg.sort() \n",
        "\n",
        "  def readLabelFile(path):\n",
        "    labels = []\n",
        "    with open(path,'r') as f:\n",
        "      labels = f.readlines()\n",
        "      labels = [int(x.rstrip('\\n')) for x in labels]\n",
        "    return labels \n",
        "  trainLabels = readLabelFile(folder + '/train.txt')\n",
        "  testLabels = readLabelFile(folder + '/test.txt')  \n",
        "\n",
        "  return trainImg, testImg, trainLabels, testLabels\n",
        "\n",
        "trainImg, testImg, trainLabels, testLabels = readCPOdataset('/content/dataset.zip')\n",
        "print(f\"Ścieżki do danych uczących: {trainImg}\\nŚcieżki do danych walidacyjnych: {testImg}\")\n",
        "print(f\"Etykiety danych uczących: {trainLabels}\\nEtykiety danych walidacyjnych: {testLabels}\")\n"
      ]
    },
    {
      "cell_type": "markdown",
      "source": [
        "**ZADANIE 1**"
      ],
      "metadata": {
        "id": "h5449kcn9CS2"
      }
    },
    {
      "cell_type": "markdown",
      "source": [
        "# Wstępne przetworzenie obrazu:\n",
        "- dostosowanie rozmiaru\n"
      ],
      "metadata": {
        "id": "T04mAHYCBlL9"
      }
    },
    {
      "cell_type": "markdown",
      "source": [
        "1. Sprawdzam wielkośći zdjęć w zbiorach testowych i treningowych "
      ],
      "metadata": {
        "id": "85yxyDpgBqaR"
      }
    },
    {
      "cell_type": "code",
      "source": [
        "import cv2\n",
        "\n",
        "def get_image_width(image_path):\n",
        "    img = cv2.imread(image_path, cv2.IMREAD_UNCHANGED)\n",
        "    height, width = img.shape[:2]\n",
        "    return width\n",
        "def get_image_height(image_path):\n",
        "    img = cv2.imread(image_path, cv2.IMREAD_UNCHANGED)\n",
        "    height, width = img.shape[:2]\n",
        "    return height\n",
        "\n"
      ],
      "metadata": {
        "id": "r86yXC-LDESR"
      },
      "execution_count": 7,
      "outputs": []
    },
    {
      "cell_type": "code",
      "source": [
        "import matplotlib.pyplot as plt\n",
        "import numpy as np\n",
        "\n",
        "widths = [get_image_width(f) for f in trainImg] + [get_image_width(f) for f in testImg]\n",
        "heights = [get_image_height(f) for f in trainImg] + [get_image_height(f) for f in testImg]\n",
        "\n",
        "plt.hist(np.asarray(widths))\n",
        "plt.show()\n",
        "plt.hist(np.asarray(heights))\n",
        "plt.show()"
      ],
      "metadata": {
        "colab": {
          "base_uri": "https://localhost:8080/",
          "height": 843
        },
        "id": "tiDS_C1GAAJW",
        "outputId": "c6305254-eaad-4482-fff8-711442042fbe"
      },
      "execution_count": 8,
      "outputs": [
        {
          "output_type": "display_data",
          "data": {
            "text/plain": [
              "<Figure size 640x480 with 1 Axes>"
            ],
            "image/png": "[encoded data removed]"
          },
          "metadata": {}
        },
        {
          "output_type": "display_data",
          "data": {
            "text/plain": [
              "<Figure size 640x480 with 1 Axes>"
            ],
            "image/png": "[encoded data removed]"
          },
          "metadata": {}
        }
      ]
    },
    {
      "cell_type": "markdown",
      "source": [
        "Wszystkie obrazy są w rozdzielczośći 512 x 512. W programie przeskaluje obrazy do rozdzielczośći 256x256 aby zwiększyć szybkość programu ale, żeby zachować jak najwięcej informacji.\n"
      ],
      "metadata": {
        "id": "B7WidJ9yFCBH"
      }
    },
    {
      "cell_type": "code",
      "source": [
        "from google.colab.patches import cv2_imshow\n",
        "def show_img_bin(img_paths, sp_filter):\n",
        "  for path in img_paths:\n",
        "\n",
        "    img = np.asarray(cv2.imread(path, cv2.IMREAD_GRAYSCALE))\n",
        "    img = cv2.GaussianBlur(img,(7,7),0.9)\n",
        "      \n",
        "    binary_img = cv2.adaptiveThreshold(img, 255,cv2.ADAPTIVE_THRESH_GAUSSIAN_C, cv2.THRESH_BINARY, 21, 4)\n",
        "    if sp_filter:\n",
        "      kernel = cv2.getStructuringElement(cv2.MORPH_ELLIPSE,(3,3))\n",
        "      binary_img = cv2.dilate(binary_img,kernel,iterations = 1)\n",
        "      binary_img = cv2.morphologyEx(binary_img, cv2.MORPH_CLOSE, kernel)\n",
        "      binary_img = cv2.erode(binary_img,kernel,iterations = 1)\n",
        "    cv2_imshow(binary_img)"
      ],
      "metadata": {
        "id": "nE65FTMxAGfp"
      },
      "execution_count": 9,
      "outputs": []
    },
    {
      "cell_type": "code",
      "source": [
        "def load_imgs(path_list, im_size):\n",
        "  images = []\n",
        "  dim = (im_size, im_size)\n",
        "  for path in path_list:\n",
        "    img = cv2.imread(path)\n",
        "    img = cv2.resize(img, dim, interpolation = cv2.INTER_AREA)\n",
        "    images.append(img)\n",
        "  return images   "
      ],
      "metadata": {
        "id": "A0TszWl26pv4"
      },
      "execution_count": 10,
      "outputs": []
    },
    {
      "cell_type": "code",
      "source": [
        "train_images = load_imgs(trainImg,512)\n",
        "test_images = load_imgs(testImg, 512)\n",
        "\n",
        "show_img_bin(testImg,True)\n"
      ],
      "metadata": {
        "colab": {
          "base_uri": "https://localhost:8080/",
          "height": 1000
        },
        "id": "QyYHdvyEAOeW",
        "outputId": "73348823-d98e-42f8-95f4-07c2f3d77e4e"
      },
      "execution_count": 11,
      "outputs": [
        {
          "output_type": "display_data",
          "data": {
            "text/plain": [
              "<PIL.Image.Image image mode=L size=512x512 at 0x7F5B1036B4F0>"
            ],
            "image/png": "[encoded data removed]"
          },
          "metadata": {}
        },
        {
          "output_type": "display_data",
          "data": {
            "text/plain": [
              "<PIL.Image.Image image mode=L size=512x512 at 0x7F5B1036B4F0>"
            ],
            "image/png": "[encoded data removed]"
          },
          "metadata": {}
        },
        {
          "output_type": "display_data",
          "data": {
            "text/plain": [
              "<PIL.Image.Image image mode=L size=512x512 at 0x7F5B1036B4F0>"
            ],
            "image/png": "[encoded data removed]"
          },
          "metadata": {}
        },
        {
          "output_type": "display_data",
          "data": {
            "text/plain": [
              "<PIL.Image.Image image mode=L size=512x512 at 0x7F5B1036B4F0>"
            ],
            "image/png": "[encoded data removed]"
          },
          "metadata": {}
        },
        {
          "output_type": "display_data",
          "data": {
            "text/plain": [
              "<PIL.Image.Image image mode=L size=512x512 at 0x7F5B1036B4F0>"
            ],
            "image/png": "[encoded data removed]"
          },
          "metadata": {}
        },
        {
          "output_type": "display_data",
          "data": {
            "text/plain": [
              "<PIL.Image.Image image mode=L size=512x512 at 0x7F5B1036B4F0>"
            ],
            "image/png": "[encoded data removed]"
          },
          "metadata": {}
        },
        {
          "output_type": "display_data",
          "data": {
            "text/plain": [
              "<PIL.Image.Image image mode=L size=512x512 at 0x7F5B1036B4F0>"
            ],
            "image/png": "[encoded data removed]"
          },
          "metadata": {}
        },
        {
          "output_type": "display_data",
          "data": {
            "text/plain": [
              "<PIL.Image.Image image mode=L size=512x512 at 0x7F5B1036BA30>"
            ],
            "image/png": "[encoded data removed]"
          },
          "metadata": {}
        },
        {
          "output_type": "display_data",
          "data": {
            "text/plain": [
              "<PIL.Image.Image image mode=L size=512x512 at 0x7F5B1036BA30>"
            ],
            "image/png": "[encoded data removed]"
          },
          "metadata": {}
        },
        {
          "output_type": "display_data",
          "data": {
            "text/plain": [
              "<PIL.Image.Image image mode=L size=512x512 at 0x7F5B1036BA30>"
            ],
            "image/png": "[encoded data removed]"
          },
          "metadata": {}
        },
        {
          "output_type": "display_data",
          "data": {
            "text/plain": [
              "<PIL.Image.Image image mode=L size=512x512 at 0x7F5B1036BA30>"
            ],
            "image/png": "[encoded data removed]"
          },
          "metadata": {}
        },
        {
          "output_type": "display_data",
          "data": {
            "text/plain": [
              "<PIL.Image.Image image mode=L size=512x512 at 0x7F5B1036BA30>"
            ],
            "image/png": "[encoded data removed]"
          },
          "metadata": {}
        },
        {
          "output_type": "display_data",
          "data": {
            "text/plain": [
              "<PIL.Image.Image image mode=L size=512x512 at 0x7F5B1036BA30>"
            ],
            "image/png": "[encoded data removed]"
          },
          "metadata": {}
        },
        {
          "output_type": "display_data",
          "data": {
            "text/plain": [
              "<PIL.Image.Image image mode=L size=512x512 at 0x7F5B1036BA30>"
            ],
            "image/png": "[encoded data removed]"
          },
          "metadata": {}
        },
        {
          "output_type": "display_data",
          "data": {
            "text/plain": [
              "<PIL.Image.Image image mode=L size=512x512 at 0x7F5B1036BA30>"
            ],
            "image/png": "[encoded data removed]"
          },
          "metadata": {}
        },
        {
          "output_type": "display_data",
          "data": {
            "text/plain": [
              "<PIL.Image.Image image mode=L size=512x512 at 0x7F5B1036BA30>"
            ],
            "image/png": "[encoded data removed]"
          },
          "metadata": {}
        },
        {
          "output_type": "display_data",
          "data": {
            "text/plain": [
              "<PIL.Image.Image image mode=L size=512x512 at 0x7F5B1036BA30>"
            ],
            "image/png": "[encoded data removed]"
          },
          "metadata": {}
        },
        {
          "output_type": "display_data",
          "data": {
            "text/plain": [
              "<PIL.Image.Image image mode=L size=512x512 at 0x7F5B1036B4F0>"
            ],
            "image/png": "[encoded data removed]"
          },
          "metadata": {}
        },
        {
          "output_type": "display_data",
          "data": {
            "text/plain": [
              "<PIL.Image.Image image mode=L size=512x512 at 0x7F5B125AC6A0>"
            ],
            "image/png": "[encoded data removed]"
          },
          "metadata": {}
        },
        {
          "output_type": "display_data",
          "data": {
            "text/plain": [
              "<PIL.Image.Image image mode=L size=512x512 at 0x7F5B1036A800>"
            ],
            "image/png": "[encoded data removed]"
          },
          "metadata": {}
        }
      ]
    },
    {
      "cell_type": "code",
      "source": [],
      "metadata": {
        "id": "_6b0RwxxFA4_"
      },
      "execution_count": 11,
      "outputs": []
    },
    {
      "cell_type": "markdown",
      "source": [
        "Sprawdzam obecność zaszumienia -"
      ],
      "metadata": {
        "id": "CAGa7ow0KAK_"
      }
    },
    {
      "cell_type": "code",
      "source": [
        "from skimage.feature import hog\n",
        "def get_HOG_features(img, orientations, pixels_per_cell,cells_per_block):\n",
        "  fd, _ = hog(img, orientations=orientations, pixels_per_cell=pixels_per_cell,cells_per_block=cells_per_block, visualize=True, multichannel=True)\n",
        "  return fd"
      ],
      "metadata": {
        "id": "kzMH1waWANJC"
      },
      "execution_count": 12,
      "outputs": []
    },
    {
      "cell_type": "code",
      "source": [
        "train_images = load_imgs(trainImg,256)\n",
        "test_images = load_imgs(testImg, 256)\n",
        "\n",
        "trainDisc = [get_HOG_features(img, 9, (8,8),(2,2)) for img in train_images]\n",
        "testDisc =[get_HOG_features(img, 9, (8,8),(2,2)) for img in test_images]"
      ],
      "metadata": {
        "colab": {
          "base_uri": "https://localhost:8080/"
        },
        "id": "xTi4bn_v1IEk",
        "outputId": "c9a6f5c4-4c0e-4095-c84f-4e762f099a7c"
      },
      "execution_count": 13,
      "outputs": [
        {
          "output_type": "stream",
          "name": "stderr",
          "text": [
            "<ipython-input-12-45b6aaa57843>:3: FutureWarning: `multichannel` is a deprecated argument name for `hog`. It will be removed in version 1.0. Please use `channel_axis` instead.\n",
            "  fd, _ = hog(img, orientations=orientations, pixels_per_cell=pixels_per_cell,cells_per_block=cells_per_block, visualize=True, multichannel=True)\n"
          ]
        }
      ]
    },
    {
      "cell_type": "code",
      "source": [
        "print(trainDisc)"
      ],
      "metadata": {
        "colab": {
          "base_uri": "https://localhost:8080/"
        },
        "id": "0-eoH1kg3kmk",
        "outputId": "8e57818a-2757-4c39-b0c3-28f0bc289f4c"
      },
      "execution_count": 14,
      "outputs": [
        {
          "output_type": "stream",
          "name": "stdout",
          "text": [
            "[array([0.34605386, 0.00876893, 0.00831893, ..., 0.14761213, 0.05787128,\n",
            "       0.06285058]), array([0.35105269, 0.01314177, 0.01463171, ..., 0.13065512, 0.05902397,\n",
            "       0.10903392]), array([0.30073477, 0.04873963, 0.01346147, ..., 0.22551587, 0.10025889,\n",
            "       0.05117529]), array([0.23029311, 0.06510875, 0.08080608, ..., 0.2337742 , 0.10672693,\n",
            "       0.03272331]), array([0.15726102, 0.        , 0.        , ..., 0.12528084, 0.21678569,\n",
            "       0.10087144]), array([0.19397994, 0.07745577, 0.12295339, ..., 0.1211148 , 0.11558087,\n",
            "       0.03868871]), array([0.34912064, 0.0096781 , 0.02142339, ..., 0.22767323, 0.05276866,\n",
            "       0.        ]), array([0.18920585, 0.02804538, 0.15478601, ..., 0.23496223, 0.11841352,\n",
            "       0.0418655 ]), array([0.25588322, 0.0576216 , 0.04773689, ..., 0.16441429, 0.08564723,\n",
            "       0.07878032]), array([0.17570767, 0.06617043, 0.03392392, ..., 0.12918749, 0.08754144,\n",
            "       0.20633715]), array([0.19413142, 0.        , 0.11153321, ..., 0.06594728, 0.11491538,\n",
            "       0.0245771 ]), array([0.26399002, 0.1178381 , 0.01090003, ..., 0.09131023, 0.02798804,\n",
            "       0.01428597]), array([0.31396795, 0.        , 0.07516908, ..., 0.21182731, 0.12179214,\n",
            "       0.0561434 ]), array([0.29690617, 0.28536352, 0.13738287, ..., 0.23220987, 0.12306351,\n",
            "       0.04350952]), array([0.19377571, 0.1016191 , 0.18052348, ..., 0.04754694, 0.11558546,\n",
            "       0.05180422]), array([0.24808881, 0.04805746, 0.11244862, ..., 0.03707059, 0.10554267,\n",
            "       0.05345647]), array([0.2881007 , 0.        , 0.00253066, ..., 0.18443571, 0.0992712 ,\n",
            "       0.07012274]), array([0.33222185, 0.0085674 , 0.05716254, ..., 0.26039133, 0.26039133,\n",
            "       0.19318074]), array([0.19085682, 0.07770479, 0.10522264, ..., 0.16173694, 0.09399057,\n",
            "       0.05763649]), array([0.17079096, 0.03831905, 0.06502959, ..., 0.07910886, 0.16496118,\n",
            "       0.        ]), array([0.18467938, 0.09156952, 0.1535636 , ..., 0.10225961, 0.04409636,\n",
            "       0.09578088]), array([0.25273231, 0.13055823, 0.08683043, ..., 0.12602122, 0.10023812,\n",
            "       0.01174134]), array([0.28396786, 0.        , 0.27726997, ..., 0.24191481, 0.25270761,\n",
            "       0.07435824]), array([0.21802873, 0.09750541, 0.03083392, ..., 0.14087483, 0.17756072,\n",
            "       0.03298659]), array([0.27227601, 0.03646998, 0.03500513, ..., 0.24349171, 0.1366668 ,\n",
            "       0.08905543]), array([0.19470749, 0.05023606, 0.03177207, ..., 0.20796971, 0.05480483,\n",
            "       0.        ]), array([0.29021888, 0.06745336, 0.19786325, ..., 0.14316321, 0.11681683,\n",
            "       0.04573181]), array([0.17246579, 0.03752716, 0.0635503 , ..., 0.1924229 , 0.18119992,\n",
            "       0.09272057]), array([0.21273478, 0.04893542, 0.05158246, ..., 0.18239693, 0.03577098,\n",
            "       0.04090568]), array([0.26041539, 0.16715734, 0.08781626, ..., 0.096567  , 0.09367293,\n",
            "       0.02046829]), array([0.24645732, 0.01722173, 0.07624384, ..., 0.14654445, 0.05792679,\n",
            "       0.04096042]), array([0.32780542, 0.01234369, 0.08756043, ..., 0.12261868, 0.10459652,\n",
            "       0.06414022]), array([0.25600057, 0.05975121, 0.05449261, ..., 0.22472001, 0.30503309,\n",
            "       0.09898158]), array([0.29418736, 0.01435037, 0.12796231, ..., 0.08614272, 0.06393856,\n",
            "       0.09207653]), array([0.23619266, 0.1915381 , 0.13124933, ..., 0.07849946, 0.1785905 ,\n",
            "       0.0673989 ]), array([0.24476045, 0.01824337, 0.11538118, ..., 0.12598576, 0.07650953,\n",
            "       0.        ]), array([0.19022634, 0.        , 0.06080084, ..., 0.24749197, 0.16960769,\n",
            "       0.        ]), array([0.10431361, 0.04910575, 0.06211441, ..., 0.10764779, 0.21319954,\n",
            "       0.18053082]), array([0.22004515, 0.01885266, 0.05961734, ..., 0.18611414, 0.16629811,\n",
            "       0.03439649]), array([0.2718974 , 0.03581568, 0.06795548, ..., 0.12922907, 0.02706521,\n",
            "       0.        ]), array([0.33890811, 0.03599488, 0.02839332, ..., 0.21579259, 0.09201167,\n",
            "       0.1730599 ]), array([0.21880606, 0.02028202, 0.12249607, ..., 0.07905808, 0.05495177,\n",
            "       0.07009141]), array([0.22178412, 0.03072129, 0.08743433, ..., 0.09857581, 0.11682701,\n",
            "       0.12662812]), array([0.27951441, 0.01572242, 0.0596624 , ..., 0.10392226, 0.06132377,\n",
            "       0.14287352]), array([0.36567666, 0.02390405, 0.0107068 , ..., 0.12436141, 0.15785021,\n",
            "       0.        ]), array([0.23944414, 0.06422025, 0.23944414, ..., 0.14864004, 0.1040719 ,\n",
            "       0.02452998]), array([0.2678976 , 0.12899892, 0.09546744, ..., 0.23688054, 0.14413776,\n",
            "       0.04429615]), array([0.34788498, 0.03965246, 0.00261284, ..., 0.24773699, 0.0669889 ,\n",
            "       0.        ]), array([0.34329877, 0.04996923, 0.05879862, ..., 0.13181455, 0.0941121 ,\n",
            "       0.03684329]), array([0.16563727, 0.02340645, 0.02274145, ..., 0.07386899, 0.12336414,\n",
            "       0.        ]), array([0.24085674, 0.07397179, 0.11695965, ..., 0.07918628, 0.11549993,\n",
            "       0.07082636]), array([0.26947524, 0.05592327, 0.04715864, ..., 0.04991017, 0.03156596,\n",
            "       0.        ]), array([0.21297823, 0.13054177, 0.0749149 , ..., 0.22468086, 0.        ,\n",
            "       0.04003358]), array([0.31806123, 0.07158755, 0.0735675 , ..., 0.24785379, 0.09103212,\n",
            "       0.        ]), array([0.20208622, 0.0403463 , 0.03572413, ..., 0.14937654, 0.03985125,\n",
            "       0.01333952]), array([0.26994355, 0.0201204 , 0.08907683, ..., 0.08246608, 0.01629879,\n",
            "       0.        ]), array([0.23633847, 0.07773638, 0.20357927, ..., 0.08205142, 0.27869854,\n",
            "       0.12151287]), array([0.24694733, 0.12917334, 0.0378521 , ..., 0.04928168, 0.        ,\n",
            "       0.0367324 ]), array([0.27889391, 0.00472444, 0.01195199, ..., 0.22815076, 0.22872573,\n",
            "       0.14133083]), array([0.24039532, 0.14323474, 0.17147988, ..., 0.14256174, 0.02896229,\n",
            "       0.02540161]), array([0.27143855, 0.04426366, 0.10777539, ..., 0.04619712, 0.07632963,\n",
            "       0.04619712]), array([0.31954931, 0.        , 0.        , ..., 0.10224127, 0.1781589 ,\n",
            "       0.        ]), array([0.34297998, 0.06920213, 0.00903814, ..., 0.11826348, 0.11424409,\n",
            "       0.03502813]), array([0.29677209, 0.05468786, 0.05760576, ..., 0.17015046, 0.07650541,\n",
            "       0.07212999]), array([0.27180663, 0.02199652, 0.03154877, ..., 0.15582886, 0.02463871,\n",
            "       0.13646082]), array([0.30757515, 0.0190059 , 0.12778874, ..., 0.08315902, 0.15161815,\n",
            "       0.04648731]), array([0.1568345 , 0.00728148, 0.04858273, ..., 0.08139412, 0.02319041,\n",
            "       0.03279619]), array([0.32678237, 0.02296456, 0.00709354, ..., 0.01199976, 0.07589318,\n",
            "       0.05366458]), array([0.33578457, 0.00593986, 0.00593986, ..., 0.03950827, 0.12052755,\n",
            "       0.20447082]), array([0.25698038, 0.21424757, 0.17277639, ..., 0.3114565 , 0.03448456,\n",
            "       0.01741989]), array([0.23308381, 0.1750831 , 0.23165235, ..., 0.36721746, 0.36721746,\n",
            "       0.19066058]), array([0.24801898, 0.07206177, 0.00870421, ..., 0.15925595, 0.14485941,\n",
            "       0.03916695]), array([0.2921683 , 0.05515602, 0.        , ..., 0.22228404, 0.20028786,\n",
            "       0.1263191 ]), array([0.24295648, 0.01552701, 0.16327668, ..., 0.08040282, 0.06685333,\n",
            "       0.02196392]), array([0.24918831, 0.05370949, 0.09058363, ..., 0.05436259, 0.04500652,\n",
            "       0.06447267]), array([0.24943281, 0.0531985 , 0.04155871, ..., 0.07027093, 0.04761775,\n",
            "       0.0292676 ]), array([0.24336925, 0.048993  , 0.22289422, ..., 0.08425739, 0.05709542,\n",
            "       0.02691504]), array([0.19421689, 0.06460882, 0.12197868, ..., 0.12905323, 0.16360383,\n",
            "       0.08244909]), array([0.24433733, 0.06043056, 0.0707001 , ..., 0.37114939, 0.02857722,\n",
            "       0.01010357]), array([0.37123112, 0.12537016, 0.07474434, ..., 0.08467819, 0.12486681,\n",
            "       0.04733655])]\n"
          ]
        }
      ]
    },
    {
      "cell_type": "code",
      "source": [
        "from sklearn import svm\n",
        "from sklearn import metrics\n",
        "\n",
        "clf = svm.SVC(kernel='linear')\n",
        "clf.fit(trainDisc, trainLabels)\n",
        "\n",
        "testPred = clf.predict(testDisc)\n"
      ],
      "metadata": {
        "id": "WaEpiDgU058d"
      },
      "execution_count": 15,
      "outputs": []
    },
    {
      "cell_type": "code",
      "source": [
        "from sklearn.metrics import confusion_matrix, ConfusionMatrixDisplay, classification_report\n",
        "\n",
        "cm = confusion_matrix(testLabels,testPred)\n",
        "target_names = ['Proper','Not proper']\n",
        "disp = ConfusionMatrixDisplay(confusion_matrix=cm, display_labels = target_names)\n",
        "disp.plot()\n",
        "plt.show()\n",
        "\n",
        "print(classification_report(testLabels, testPred, target_names=target_names))"
      ],
      "metadata": {
        "colab": {
          "base_uri": "https://localhost:8080/",
          "height": 611
        },
        "id": "qt3CNSyr30db",
        "outputId": "10c63507-6f07-4376-dbaa-ea0d2c633d0a"
      },
      "execution_count": 16,
      "outputs": [
        {
          "output_type": "display_data",
          "data": {
            "text/plain": [
              "<Figure size 640x480 with 2 Axes>"
            ],
            "image/png": "[encoded data removed]"
          },
          "metadata": {}
        },
        {
          "output_type": "stream",
          "name": "stdout",
          "text": [
            "              precision    recall  f1-score   support\n",
            "\n",
            "      Proper       0.75      0.75      0.75        12\n",
            "  Not proper       0.62      0.62      0.62         8\n",
            "\n",
            "    accuracy                           0.70        20\n",
            "   macro avg       0.69      0.69      0.69        20\n",
            "weighted avg       0.70      0.70      0.70        20\n",
            "\n"
          ]
        }
      ]
    },
    {
      "cell_type": "markdown",
      "source": [
        "Results for image size 128x128"
      ],
      "metadata": {
        "id": "yG7QZvDP5Ngt"
      }
    },
    {
      "cell_type": "code",
      "source": [
        "\n",
        "train_images = load_imgs(trainImg,128)\n",
        "test_images = load_imgs(testImg, 128)\n",
        "\n",
        "trainDisc = [get_HOG_features(img, 9, (8,8),(2,2)) for img in train_images]\n",
        "testDisc =[get_HOG_features(img, 9, (8,8),(2,2)) for img in test_images]\n",
        "clf = svm.SVC(kernel='linear')\n",
        "clf.fit(trainDisc, trainLabels)\n",
        "\n",
        "testPred = clf.predict(testDisc)\n",
        "\n",
        "cm = confusion_matrix(testLabels,testPred)\n",
        "target_names = ['Proper','Not proper']\n",
        "disp = ConfusionMatrixDisplay(confusion_matrix=cm, display_labels = target_names)\n",
        "disp.plot()\n",
        "plt.show()\n",
        "\n",
        "print(classification_report(testLabels, testPred, target_names=target_names))"
      ],
      "metadata": {
        "colab": {
          "base_uri": "https://localhost:8080/",
          "height": 666
        },
        "id": "fQ_7MNYx5Dzl",
        "outputId": "b1b5d81d-1755-40af-dbdd-d8e6003d89bd"
      },
      "execution_count": 17,
      "outputs": [
        {
          "output_type": "stream",
          "name": "stderr",
          "text": [
            "<ipython-input-12-45b6aaa57843>:3: FutureWarning: `multichannel` is a deprecated argument name for `hog`. It will be removed in version 1.0. Please use `channel_axis` instead.\n",
            "  fd, _ = hog(img, orientations=orientations, pixels_per_cell=pixels_per_cell,cells_per_block=cells_per_block, visualize=True, multichannel=True)\n"
          ]
        },
        {
          "output_type": "display_data",
          "data": {
            "text/plain": [
              "<Figure size 640x480 with 2 Axes>"
            ],
            "image/png": "[encoded data removed]"
          },
          "metadata": {}
        },
        {
          "output_type": "stream",
          "name": "stdout",
          "text": [
            "              precision    recall  f1-score   support\n",
            "\n",
            "      Proper       0.77      0.83      0.80        12\n",
            "  Not proper       0.71      0.62      0.67         8\n",
            "\n",
            "    accuracy                           0.75        20\n",
            "   macro avg       0.74      0.73      0.73        20\n",
            "weighted avg       0.75      0.75      0.75        20\n",
            "\n"
          ]
        }
      ]
    },
    {
      "cell_type": "code",
      "source": [
        "train_images = load_imgs(trainImg,64)\n",
        "test_images = load_imgs(testImg, 64)\n",
        "\n",
        "trainDisc = [get_HOG_features(img, 9, (8,8),(2,2)) for img in train_images]\n",
        "testDisc =[get_HOG_features(img, 9, (8,8),(2,2)) for img in test_images]\n",
        "clf = svm.SVC(kernel='linear')\n",
        "clf.fit(trainDisc, trainLabels)\n",
        "\n",
        "testPred = clf.predict(testDisc)\n",
        "\n",
        "cm = confusion_matrix(testLabels,testPred)\n",
        "target_names = ['Proper','Not proper']\n",
        "disp = ConfusionMatrixDisplay(confusion_matrix=cm, display_labels = target_names)\n",
        "disp.plot()\n",
        "plt.show()\n",
        "\n",
        "print(classification_report(testLabels, testPred, target_names=target_names))"
      ],
      "metadata": {
        "colab": {
          "base_uri": "https://localhost:8080/",
          "height": 660
        },
        "id": "iVB6UMnM5d3I",
        "outputId": "3657e207-8072-43da-a5b7-a45369b20242"
      },
      "execution_count": 18,
      "outputs": [
        {
          "output_type": "stream",
          "name": "stderr",
          "text": [
            "<ipython-input-12-45b6aaa57843>:3: FutureWarning: `multichannel` is a deprecated argument name for `hog`. It will be removed in version 1.0. Please use `channel_axis` instead.\n",
            "  fd, _ = hog(img, orientations=orientations, pixels_per_cell=pixels_per_cell,cells_per_block=cells_per_block, visualize=True, multichannel=True)\n"
          ]
        },
        {
          "output_type": "display_data",
          "data": {
            "text/plain": [
              "<Figure size 640x480 with 2 Axes>"
            ],
            "image/png": "[encoded data removed]"
          },
          "metadata": {}
        },
        {
          "output_type": "stream",
          "name": "stdout",
          "text": [
            "              precision    recall  f1-score   support\n",
            "\n",
            "      Proper       0.79      0.92      0.85        12\n",
            "  Not proper       0.83      0.62      0.71         8\n",
            "\n",
            "    accuracy                           0.80        20\n",
            "   macro avg       0.81      0.77      0.78        20\n",
            "weighted avg       0.80      0.80      0.79        20\n",
            "\n"
          ]
        }
      ]
    },
    {
      "cell_type": "markdown",
      "source": [
        "Klasyfikując obrazy za pomocą SVM biorąc wyniki algorytmu HOG jako dane uczące, udało się osiągnąć 80% dokładność modelu."
      ],
      "metadata": {
        "id": "m_WDhHJt8jHd"
      }
    },
    {
      "cell_type": "markdown",
      "source": [
        "**ZADANIE 2**"
      ],
      "metadata": {
        "id": "2171YICu83Bo"
      }
    },
    {
      "cell_type": "code",
      "source": [
        "from google.colab.patches import cv2_imshow\n",
        "def show_img_bin(img_paths):\n",
        "  for path in img_paths:\n",
        "    img = cv2.imread(path, cv2.IMREAD_GRAYSCALE)\n",
        "    binary_img = cv2.adaptiveThreshold(np.array(img), 255,cv2.ADAPTIVE_THRESH_GAUSSIAN_C, cv2.THRESH_BINARY, 21, 4)\n",
        "    cv2_imshow(binary_img)"
      ],
      "metadata": {
        "id": "x8mrbRnC-ZeU"
      },
      "execution_count": 19,
      "outputs": []
    },
    {
      "cell_type": "markdown",
      "source": [
        "# Test 1. - Czy wszystkie otwory zajęte \n",
        "\n",
        "\n",
        "*   Crop 1,2,3\n",
        "*   Test 1,2,3\n",
        "*   if 3 - Good \n",
        "\n",
        "# Test 2. - Czy nie rozwalony plastik\n",
        "* Crop obudowa\n",
        "* Test wsp. kształtu\n"
      ],
      "metadata": {
        "id": "cGC6xRWXHzbM"
      }
    },
    {
      "cell_type": "code",
      "source": [
        "def crop_frame(img_list,x1,x2,y1,y2):\n",
        "  c_img = [img[x1:x2,y1:y2] for img in img_list]\n",
        "  return c_img"
      ],
      "metadata": {
        "id": "H9uXr_osLU4v"
      },
      "execution_count": 20,
      "outputs": []
    },
    {
      "cell_type": "code",
      "source": [
        "def get_treshold(im):\n",
        "  \n",
        "  T = np.mean(im)\n",
        "  while(1):\n",
        "    higher = im.copy() \n",
        "    lower = im.copy()\n",
        "    \n",
        "    higher[higher<T]=0\n",
        "    lower[lower>=T]=0\n",
        "\n",
        "    N_h = np.count_nonzero(higher)\n",
        "    N_l = np.count_nonzero(lower)\n",
        "\n",
        "    mean_h = np.sum(higher)/N_h\n",
        "    mean_l = np.sum(lower)/N_l\n",
        "\n",
        "    T1 = (mean_h + mean_l)/2\n",
        "\n",
        "    if (T1-T)<1:\n",
        "      T = int(T1)\n",
        "      break\n",
        "    else: \n",
        "      T = int(T1)\n",
        "  \n",
        "  return T"
      ],
      "metadata": {
        "id": "3LQ_DXzCYZiV"
      },
      "execution_count": 21,
      "outputs": []
    },
    {
      "cell_type": "code",
      "source": [
        "test_images = [cv2.imread(path, cv2.IMREAD_GRAYSCALE) for path in trainImg]\n",
        "\n",
        "test_images = [cv2.medianBlur(img,3) for img in test_images]\n",
        "crop_base = crop_frame(test_images,100,300,175,335)\n",
        "crop_hole_1 = crop_frame(test_images,390,460,110,180)\n",
        "crop_hole_2 = crop_frame(test_images,390,460,220,290)\n",
        "crop_hole_3 = crop_frame(test_images,390,460,330,410)\n",
        "\n",
        "b_crop_base = [cv2.adaptiveThreshold(np.array(img), 255,cv2.ADAPTIVE_THRESH_GAUSSIAN_C, cv2.THRESH_BINARY, 11, 2) for img in crop_base]\n",
        "b_crop_hole_1 = [cv2.adaptiveThreshold(np.array(img), 255,cv2.ADAPTIVE_THRESH_GAUSSIAN_C, cv2.THRESH_BINARY, 11, 2) for img in crop_hole_1]\n",
        "b_crop_hole_2 = [cv2.adaptiveThreshold(np.array(img), 255,cv2.ADAPTIVE_THRESH_GAUSSIAN_C, cv2.THRESH_BINARY, 11, 2) for img in crop_hole_2]\n",
        "b_crop_hole_3 = [cv2.adaptiveThreshold(np.array(img), 255,cv2.ADAPTIVE_THRESH_GAUSSIAN_C, cv2.THRESH_BINARY, 11, 2) for img in crop_hole_3]\n",
        "\n",
        "for im in b_crop_hole_1:\n",
        "  im2 =im.copy()\n",
        "  kernel1 = cv2.getStructuringElement(cv2.MORPH_CROSS,(3,3))\n",
        "  kernel2 = cv2.getStructuringElement(cv2.MORPH_RECT,(3,3))\n",
        "\n",
        "  im = cv2.erode(im,kernel1,iterations = 2)\n",
        "  im = cv2.dilate(im,kernel2,iterations = 2)\n",
        "\n",
        "  cv2_imshow(im2)\n",
        "  cv2_imshow(im)\n",
        "\n"
      ],
      "metadata": {
        "colab": {
          "base_uri": "https://localhost:8080/",
          "height": 1000
        },
        "id": "v8OMPyjSKPeo",
        "outputId": "55cf4eef-30c9-4940-8c4f-3acd62f0ea90"
      },
      "execution_count": 65,
      "outputs": [
        {
          "output_type": "display_data",
          "data": {
            "text/plain": [
              "<PIL.Image.Image image mode=L size=70x70 at 0x7F5B1036BA90>"
            ],
            "image/png": "[encoded data removed]"
          },
          "metadata": {}
        },
        {
          "output_type": "display_data",
          "data": {
            "text/plain": [
              "<PIL.Image.Image image mode=L size=70x70 at 0x7F5B1036BA90>"
            ],
            "image/png": "[encoded data removed]"
          },
          "metadata": {}
        },
        {
          "output_type": "display_data",
          "data": {
            "text/plain": [
              "<PIL.Image.Image image mode=L size=70x70 at 0x7F5B1036BA90>"
            ],
            "image/png": "[encoded data removed]"
          },
          "metadata": {}
        },
        {
          "output_type": "display_data",
          "data": {
            "text/plain": [
              "<PIL.Image.Image image mode=L size=70x70 at 0x7F5B1036BA90>"
            ],
            "image/png": "[encoded data removed]"
          },
          "metadata": {}
        },
        {
          "output_type": "display_data",
          "data": {
            "text/plain": [
              "<PIL.Image.Image image mode=L size=70x70 at 0x7F5B1036BA90>"
            ],
            "image/png": "[encoded data removed]"
          },
          "metadata": {}
        },
        {
          "output_type": "display_data",
          "data": {
            "text/plain": [
              "<PIL.Image.Image image mode=L size=70x70 at 0x7F5B1036BA90>"
            ],
            "image/png": "[encoded data removed]"
          },
          "metadata": {}
        },
        {
          "output_type": "display_data",
          "data": {
            "text/plain": [
              "<PIL.Image.Image image mode=L size=70x70 at 0x7F5B1036BA90>"
            ],
            "image/png": "[encoded data removed]"
          },
          "metadata": {}
        },
        {
          "output_type": "display_data",
          "data": {
            "text/plain": [
              "<PIL.Image.Image image mode=L size=70x70 at 0x7F5B1036BA90>"
            ],
            "image/png": "[encoded data removed]"
          },
          "metadata": {}
        },
        {
          "output_type": "display_data",
          "data": {
            "text/plain": [
              "<PIL.Image.Image image mode=L size=70x70 at 0x7F5B1036BA90>"
            ],
            "image/png": "[encoded data removed]"
          },
          "metadata": {}
        },
        {
          "output_type": "display_data",
          "data": {
            "text/plain": [
              "<PIL.Image.Image image mode=L size=70x70 at 0x7F5B1036BA90>"
            ],
            "image/png": "[encoded data removed]"
          },
          "metadata": {}
        },
        {
          "output_type": "display_data",
          "data": {
            "text/plain": [
              "<PIL.Image.Image image mode=L size=70x70 at 0x7F5B1036BA90>"
            ],
            "image/png": "[encoded data removed]"
          },
          "metadata": {}
        },
        {
          "output_type": "display_data",
          "data": {
            "text/plain": [
              "<PIL.Image.Image image mode=L size=70x70 at 0x7F5B1036BA90>"
            ],
            "image/png": "[encoded data removed]"
          },
          "metadata": {}
        },
        {
          "output_type": "display_data",
          "data": {
            "text/plain": [
              "<PIL.Image.Image image mode=L size=70x70 at 0x7F5B1036BA90>"
            ],
            "image/png": "[encoded data removed]"
          },
          "metadata": {}
        },
        {
          "output_type": "display_data",
          "data": {
            "text/plain": [
              "<PIL.Image.Image image mode=L size=70x70 at 0x7F5B1036BA90>"
            ],
            "image/png": "[encoded data removed]"
          },
          "metadata": {}
        },
        {
          "output_type": "display_data",
          "data": {
            "text/plain": [
              "<PIL.Image.Image image mode=L size=70x70 at 0x7F5B1036BA90>"
            ],
            "image/png": "[encoded data removed]"
          },
          "metadata": {}
        },
        {
          "output_type": "display_data",
          "data": {
            "text/plain": [
              "<PIL.Image.Image image mode=L size=70x70 at 0x7F5B1036BA90>"
            ],
            "image/png": "[encoded data removed]"
          },
          "metadata": {}
        },
        {
          "output_type": "display_data",
          "data": {
            "text/plain": [
              "<PIL.Image.Image image mode=L size=70x70 at 0x7F5B1036BA90>"
            ],
            "image/png": "[encoded data removed]"
          },
          "metadata": {}
        },
        {
          "output_type": "display_data",
          "data": {
            "text/plain": [
              "<PIL.Image.Image image mode=L size=70x70 at 0x7F5B1036BA90>"
            ],
            "image/png": "[encoded data removed]"
          },
          "metadata": {}
        },
        {
          "output_type": "display_data",
          "data": {
            "text/plain": [
              "<PIL.Image.Image image mode=L size=70x70 at 0x7F5B1036BA90>"
            ],
            "image/png": "[encoded data removed]"
          },
          "metadata": {}
        },
        {
          "output_type": "display_data",
          "data": {
            "text/plain": [
              "<PIL.Image.Image image mode=L size=70x70 at 0x7F5B1036BA90>"
            ],
            "image/png": "[encoded data removed]"
          },
          "metadata": {}
        },
        {
          "output_type": "display_data",
          "data": {
            "text/plain": [
              "<PIL.Image.Image image mode=L size=70x70 at 0x7F5B1036BA90>"
            ],
            "image/png": "[encoded data removed]"
          },
          "metadata": {}
        },
        {
          "output_type": "display_data",
          "data": {
            "text/plain": [
              "<PIL.Image.Image image mode=L size=70x70 at 0x7F5B1036BA90>"
            ],
            "image/png": "[encoded data removed]"
          },
          "metadata": {}
        },
        {
          "output_type": "display_data",
          "data": {
            "text/plain": [
              "<PIL.Image.Image image mode=L size=70x70 at 0x7F5B1036BA90>"
            ],
            "image/png": "[encoded data removed]"
          },
          "metadata": {}
        },
        {
          "output_type": "display_data",
          "data": {
            "text/plain": [
              "<PIL.Image.Image image mode=L size=70x70 at 0x7F5B1036BA90>"
            ],
            "image/png": "[encoded data removed]"
          },
          "metadata": {}
        },
        {
          "output_type": "display_data",
          "data": {
            "text/plain": [
              "<PIL.Image.Image image mode=L size=70x70 at 0x7F5B1036BA90>"
            ],
            "image/png": "[encoded data removed]"
          },
          "metadata": {}
        },
        {
          "output_type": "display_data",
          "data": {
            "text/plain": [
              "<PIL.Image.Image image mode=L size=70x70 at 0x7F5B1036BA90>"
            ],
            "image/png": "[encoded data removed]"
          },
          "metadata": {}
        },
        {
          "output_type": "display_data",
          "data": {
            "text/plain": [
              "<PIL.Image.Image image mode=L size=70x70 at 0x7F5B1036BA90>"
            ],
            "image/png": "[encoded data removed]"
          },
          "metadata": {}
        },
        {
          "output_type": "display_data",
          "data": {
            "text/plain": [
              "<PIL.Image.Image image mode=L size=70x70 at 0x7F5B1036BA90>"
            ],
            "image/png": "[encoded data removed]"
          },
          "metadata": {}
        },
        {
          "output_type": "display_data",
          "data": {
            "text/plain": [
              "<PIL.Image.Image image mode=L size=70x70 at 0x7F5B1036BA90>"
            ],
            "image/png": "[encoded data removed]"
          },
          "metadata": {}
        },
        {
          "output_type": "display_data",
          "data": {
            "text/plain": [
              "<PIL.Image.Image image mode=L size=70x70 at 0x7F5B1036BA90>"
            ],
            "image/png": "[encoded data removed]"
          },
          "metadata": {}
        },
        {
          "output_type": "display_data",
          "data": {
            "text/plain": [
              "<PIL.Image.Image image mode=L size=70x70 at 0x7F5B1036BA90>"
            ],
            "image/png": "[encoded data removed]"
          },
          "metadata": {}
        },
        {
          "output_type": "display_data",
          "data": {
            "text/plain": [
              "<PIL.Image.Image image mode=L size=70x70 at 0x7F5B1036BA90>"
            ],
            "image/png": "[encoded data removed]"
          },
          "metadata": {}
        },
        {
          "output_type": "display_data",
          "data": {
            "text/plain": [
              "<PIL.Image.Image image mode=L size=70x70 at 0x7F5B1036BA90>"
            ],
            "image/png": "[encoded data removed]"
          },
          "metadata": {}
        },
        {
          "output_type": "display_data",
          "data": {
            "text/plain": [
              "<PIL.Image.Image image mode=L size=70x70 at 0x7F5B1036BA90>"
            ],
            "image/png": "[encoded data removed]"
          },
          "metadata": {}
        },
        {
          "output_type": "display_data",
          "data": {
            "text/plain": [
              "<PIL.Image.Image image mode=L size=70x70 at 0x7F5B1036BA90>"
            ],
            "image/png": "[encoded data removed]"
          },
          "metadata": {}
        },
        {
          "output_type": "display_data",
          "data": {
            "text/plain": [
              "<PIL.Image.Image image mode=L size=70x70 at 0x7F5B1036BA90>"
            ],
            "image/png": "[encoded data removed]"
          },
          "metadata": {}
        },
        {
          "output_type": "display_data",
          "data": {
            "text/plain": [
              "<PIL.Image.Image image mode=L size=70x70 at 0x7F5B1036BA90>"
            ],
            "image/png": "[encoded data removed]"
          },
          "metadata": {}
        },
        {
          "output_type": "display_data",
          "data": {
            "text/plain": [
              "<PIL.Image.Image image mode=L size=70x70 at 0x7F5B1036BA90>"
            ],
            "image/png": "[encoded data removed]"
          },
          "metadata": {}
        },
        {
          "output_type": "display_data",
          "data": {
            "text/plain": [
              "<PIL.Image.Image image mode=L size=70x70 at 0x7F5B1036BA90>"
            ],
            "image/png": "[encoded data removed]"
          },
          "metadata": {}
        },
        {
          "output_type": "display_data",
          "data": {
            "text/plain": [
              "<PIL.Image.Image image mode=L size=70x70 at 0x7F5B1036BA90>"
            ],
            "image/png": "[encoded data removed]"
          },
          "metadata": {}
        },
        {
          "output_type": "display_data",
          "data": {
            "text/plain": [
              "<PIL.Image.Image image mode=L size=70x70 at 0x7F5B1036BA90>"
            ],
            "image/png": "[encoded data removed]"
          },
          "metadata": {}
        },
        {
          "output_type": "display_data",
          "data": {
            "text/plain": [
              "<PIL.Image.Image image mode=L size=70x70 at 0x7F5B1036BA90>"
            ],
            "image/png": "[encoded data removed]"
          },
          "metadata": {}
        },
        {
          "output_type": "display_data",
          "data": {
            "text/plain": [
              "<PIL.Image.Image image mode=L size=70x70 at 0x7F5B1036BA90>"
            ],
            "image/png": "[encoded data removed]"
          },
          "metadata": {}
        },
        {
          "output_type": "display_data",
          "data": {
            "text/plain": [
              "<PIL.Image.Image image mode=L size=70x70 at 0x7F5B1036BA90>"
            ],
            "image/png": "[encoded data removed]"
          },
          "metadata": {}
        },
        {
          "output_type": "display_data",
          "data": {
            "text/plain": [
              "<PIL.Image.Image image mode=L size=70x70 at 0x7F5B1036BA90>"
            ],
            "image/png": "[encoded data removed]"
          },
          "metadata": {}
        },
        {
          "output_type": "display_data",
          "data": {
            "text/plain": [
              "<PIL.Image.Image image mode=L size=70x70 at 0x7F5B1036BA90>"
            ],
            "image/png": "[encoded data removed]"
          },
          "metadata": {}
        },
        {
          "output_type": "display_data",
          "data": {
            "text/plain": [
              "<PIL.Image.Image image mode=L size=70x70 at 0x7F5B1036BA90>"
            ],
            "image/png": "[encoded data removed]"
          },
          "metadata": {}
        },
        {
          "output_type": "display_data",
          "data": {
            "text/plain": [
              "<PIL.Image.Image image mode=L size=70x70 at 0x7F5B1036BA90>"
            ],
            "image/png": "[encoded data removed]"
          },
          "metadata": {}
        },
        {
          "output_type": "display_data",
          "data": {
            "text/plain": [
              "<PIL.Image.Image image mode=L size=70x70 at 0x7F5B1036BA90>"
            ],
            "image/png": "[encoded data removed]"
          },
          "metadata": {}
        },
        {
          "output_type": "display_data",
          "data": {
            "text/plain": [
              "<PIL.Image.Image image mode=L size=70x70 at 0x7F5B1036BA90>"
            ],
            "image/png": "[encoded data removed]"
          },
          "metadata": {}
        },
        {
          "output_type": "display_data",
          "data": {
            "text/plain": [
              "<PIL.Image.Image image mode=L size=70x70 at 0x7F5B1036BA90>"
            ],
            "image/png": "[encoded data removed]"
          },
          "metadata": {}
        },
        {
          "output_type": "display_data",
          "data": {
            "text/plain": [
              "<PIL.Image.Image image mode=L size=70x70 at 0x7F5B1036BA90>"
            ],
            "image/png": "[encoded data removed]"
          },
          "metadata": {}
        },
        {
          "output_type": "display_data",
          "data": {
            "text/plain": [
              "<PIL.Image.Image image mode=L size=70x70 at 0x7F5B1036BA90>"
            ],
            "image/png": "[encoded data removed]"
          },
          "metadata": {}
        },
        {
          "output_type": "display_data",
          "data": {
            "text/plain": [
              "<PIL.Image.Image image mode=L size=70x70 at 0x7F5B1036BA90>"
            ],
            "image/png": "[encoded data removed]"
          },
          "metadata": {}
        },
        {
          "output_type": "display_data",
          "data": {
            "text/plain": [
              "<PIL.Image.Image image mode=L size=70x70 at 0x7F5B1036BA90>"
            ],
            "image/png": "[encoded data removed]"
          },
          "metadata": {}
        },
        {
          "output_type": "display_data",
          "data": {
            "text/plain": [
              "<PIL.Image.Image image mode=L size=70x70 at 0x7F5B1036BA90>"
            ],
            "image/png": "[encoded data removed]"
          },
          "metadata": {}
        },
        {
          "output_type": "display_data",
          "data": {
            "text/plain": [
              "<PIL.Image.Image image mode=L size=70x70 at 0x7F5B1036BA90>"
            ],
            "image/png": "[encoded data removed]"
          },
          "metadata": {}
        },
        {
          "output_type": "display_data",
          "data": {
            "text/plain": [
              "<PIL.Image.Image image mode=L size=70x70 at 0x7F5B1036BA90>"
            ],
            "image/png": "[encoded data removed]"
          },
          "metadata": {}
        },
        {
          "output_type": "display_data",
          "data": {
            "text/plain": [
              "<PIL.Image.Image image mode=L size=70x70 at 0x7F5B1036BA90>"
            ],
            "image/png": "[encoded data removed]"
          },
          "metadata": {}
        },
        {
          "output_type": "display_data",
          "data": {
            "text/plain": [
              "<PIL.Image.Image image mode=L size=70x70 at 0x7F5B1036BA90>"
            ],
            "image/png": "[encoded data removed]"
          },
          "metadata": {}
        },
        {
          "output_type": "display_data",
          "data": {
            "text/plain": [
              "<PIL.Image.Image image mode=L size=70x70 at 0x7F5B1036BA90>"
            ],
            "image/png": "[encoded data removed]"
          },
          "metadata": {}
        },
        {
          "output_type": "display_data",
          "data": {
            "text/plain": [
              "<PIL.Image.Image image mode=L size=70x70 at 0x7F5B1036BA90>"
            ],
            "image/png": "[encoded data removed]"
          },
          "metadata": {}
        },
        {
          "output_type": "display_data",
          "data": {
            "text/plain": [
              "<PIL.Image.Image image mode=L size=70x70 at 0x7F5B1036BA90>"
            ],
            "image/png": "[encoded data removed]"
          },
          "metadata": {}
        },
        {
          "output_type": "display_data",
          "data": {
            "text/plain": [
              "<PIL.Image.Image image mode=L size=70x70 at 0x7F5B1036BA90>"
            ],
            "image/png": "[encoded data removed]"
          },
          "metadata": {}
        },
        {
          "output_type": "display_data",
          "data": {
            "text/plain": [
              "<PIL.Image.Image image mode=L size=70x70 at 0x7F5B1036BA90>"
            ],
            "image/png": "[encoded data removed]"
          },
          "metadata": {}
        },
        {
          "output_type": "display_data",
          "data": {
            "text/plain": [
              "<PIL.Image.Image image mode=L size=70x70 at 0x7F5B1036BA90>"
            ],
            "image/png": "[encoded data removed]"
          },
          "metadata": {}
        },
        {
          "output_type": "display_data",
          "data": {
            "text/plain": [
              "<PIL.Image.Image image mode=L size=70x70 at 0x7F5B1036BA90>"
            ],
            "image/png": "[encoded data removed]"
          },
          "metadata": {}
        },
        {
          "output_type": "display_data",
          "data": {
            "text/plain": [
              "<PIL.Image.Image image mode=L size=70x70 at 0x7F5B1036BA90>"
            ],
            "image/png": "[encoded data removed]"
          },
          "metadata": {}
        },
        {
          "output_type": "display_data",
          "data": {
            "text/plain": [
              "<PIL.Image.Image image mode=L size=70x70 at 0x7F5B1036BA90>"
            ],
            "image/png": "[encoded data removed]"
          },
          "metadata": {}
        },
        {
          "output_type": "display_data",
          "data": {
            "text/plain": [
              "<PIL.Image.Image image mode=L size=70x70 at 0x7F5B1036BA90>"
            ],
            "image/png": "[encoded data removed]"
          },
          "metadata": {}
        },
        {
          "output_type": "display_data",
          "data": {
            "text/plain": [
              "<PIL.Image.Image image mode=L size=70x70 at 0x7F5B1036BA90>"
            ],
            "image/png": "[encoded data removed]"
          },
          "metadata": {}
        },
        {
          "output_type": "display_data",
          "data": {
            "text/plain": [
              "<PIL.Image.Image image mode=L size=70x70 at 0x7F5B1036BA90>"
            ],
            "image/png": "[encoded data removed]"
          },
          "metadata": {}
        },
        {
          "output_type": "display_data",
          "data": {
            "text/plain": [
              "<PIL.Image.Image image mode=L size=70x70 at 0x7F5B1036BA90>"
            ],
            "image/png": "[encoded data removed]"
          },
          "metadata": {}
        },
        {
          "output_type": "display_data",
          "data": {
            "text/plain": [
              "<PIL.Image.Image image mode=L size=70x70 at 0x7F5B1036BA90>"
            ],
            "image/png": "[encoded data removed]"
          },
          "metadata": {}
        },
        {
          "output_type": "display_data",
          "data": {
            "text/plain": [
              "<PIL.Image.Image image mode=L size=70x70 at 0x7F5B1036BA90>"
            ],
            "image/png": "[encoded data removed]"
          },
          "metadata": {}
        },
        {
          "output_type": "display_data",
          "data": {
            "text/plain": [
              "<PIL.Image.Image image mode=L size=70x70 at 0x7F5B1036BA90>"
            ],
            "image/png": "[encoded data removed]"
          },
          "metadata": {}
        },
        {
          "output_type": "display_data",
          "data": {
            "text/plain": [
              "<PIL.Image.Image image mode=L size=70x70 at 0x7F5B1036BA90>"
            ],
            "image/png": "[encoded data removed]"
          },
          "metadata": {}
        },
        {
          "output_type": "display_data",
          "data": {
            "text/plain": [
              "<PIL.Image.Image image mode=L size=70x70 at 0x7F5B1036BA90>"
            ],
            "image/png": "[encoded data removed]"
          },
          "metadata": {}
        },
        {
          "output_type": "display_data",
          "data": {
            "text/plain": [
              "<PIL.Image.Image image mode=L size=70x70 at 0x7F5B1036BA90>"
            ],
            "image/png": "[encoded data removed]"
          },
          "metadata": {}
        },
        {
          "output_type": "display_data",
          "data": {
            "text/plain": [
              "<PIL.Image.Image image mode=L size=70x70 at 0x7F5B1036BA90>"
            ],
            "image/png": "[encoded data removed]"
          },
          "metadata": {}
        },
        {
          "output_type": "display_data",
          "data": {
            "text/plain": [
              "<PIL.Image.Image image mode=L size=70x70 at 0x7F5B1036BA90>"
            ],
            "image/png": "[encoded data removed]"
          },
          "metadata": {}
        },
        {
          "output_type": "display_data",
          "data": {
            "text/plain": [
              "<PIL.Image.Image image mode=L size=70x70 at 0x7F5B1036BA90>"
            ],
            "image/png": "[encoded data removed]"
          },
          "metadata": {}
        },
        {
          "output_type": "display_data",
          "data": {
            "text/plain": [
              "<PIL.Image.Image image mode=L size=70x70 at 0x7F5B1036BA90>"
            ],
            "image/png": "[encoded data removed]"
          },
          "metadata": {}
        },
        {
          "output_type": "display_data",
          "data": {
            "text/plain": [
              "<PIL.Image.Image image mode=L size=70x70 at 0x7F5B1036BA90>"
            ],
            "image/png": "[encoded data removed]"
          },
          "metadata": {}
        },
        {
          "output_type": "display_data",
          "data": {
            "text/plain": [
              "<PIL.Image.Image image mode=L size=70x70 at 0x7F5B1036BA90>"
            ],
            "image/png": "[encoded data removed]"
          },
          "metadata": {}
        },
        {
          "output_type": "display_data",
          "data": {
            "text/plain": [
              "<PIL.Image.Image image mode=L size=70x70 at 0x7F5B1036BA90>"
            ],
            "image/png": "[encoded data removed]"
          },
          "metadata": {}
        },
        {
          "output_type": "display_data",
          "data": {
            "text/plain": [
              "<PIL.Image.Image image mode=L size=70x70 at 0x7F5B1036BA90>"
            ],
            "image/png": "[encoded data removed]"
          },
          "metadata": {}
        },
        {
          "output_type": "display_data",
          "data": {
            "text/plain": [
              "<PIL.Image.Image image mode=L size=70x70 at 0x7F5B1036BA90>"
            ],
            "image/png": "[encoded data removed]"
          },
          "metadata": {}
        },
        {
          "output_type": "display_data",
          "data": {
            "text/plain": [
              "<PIL.Image.Image image mode=L size=70x70 at 0x7F5B1036BA90>"
            ],
            "image/png": "[encoded data removed]"
          },
          "metadata": {}
        },
        {
          "output_type": "display_data",
          "data": {
            "text/plain": [
              "<PIL.Image.Image image mode=L size=70x70 at 0x7F5B1036BA90>"
            ],
            "image/png": "[encoded data removed]"
          },
          "metadata": {}
        },
        {
          "output_type": "display_data",
          "data": {
            "text/plain": [
              "<PIL.Image.Image image mode=L size=70x70 at 0x7F5B1036BA90>"
            ],
            "image/png": "[encoded data removed]"
          },
          "metadata": {}
        },
        {
          "output_type": "display_data",
          "data": {
            "text/plain": [
              "<PIL.Image.Image image mode=L size=70x70 at 0x7F5B1036BA90>"
            ],
            "image/png": "[encoded data removed]"
          },
          "metadata": {}
        },
        {
          "output_type": "display_data",
          "data": {
            "text/plain": [
              "<PIL.Image.Image image mode=L size=70x70 at 0x7F5B1036BA90>"
            ],
            "image/png": "[encoded data removed]"
          },
          "metadata": {}
        },
        {
          "output_type": "display_data",
          "data": {
            "text/plain": [
              "<PIL.Image.Image image mode=L size=70x70 at 0x7F5B1036BA90>"
            ],
            "image/png": "[encoded data removed]"
          },
          "metadata": {}
        },
        {
          "output_type": "display_data",
          "data": {
            "text/plain": [
              "<PIL.Image.Image image mode=L size=70x70 at 0x7F5B1036BA90>"
            ],
            "image/png": "[encoded data removed]"
          },
          "metadata": {}
        },
        {
          "output_type": "display_data",
          "data": {
            "text/plain": [
              "<PIL.Image.Image image mode=L size=70x70 at 0x7F5B1036BA90>"
            ],
            "image/png": "[encoded data removed]"
          },
          "metadata": {}
        },
        {
          "output_type": "display_data",
          "data": {
            "text/plain": [
              "<PIL.Image.Image image mode=L size=70x70 at 0x7F5B1036BA90>"
            ],
            "image/png": "[encoded data removed]"
          },
          "metadata": {}
        },
        {
          "output_type": "display_data",
          "data": {
            "text/plain": [
              "<PIL.Image.Image image mode=L size=70x70 at 0x7F5B1036BA90>"
            ],
            "image/png": "[encoded data removed]"
          },
          "metadata": {}
        },
        {
          "output_type": "display_data",
          "data": {
            "text/plain": [
              "<PIL.Image.Image image mode=L size=70x70 at 0x7F5B1036BA90>"
            ],
            "image/png": "[encoded data removed]"
          },
          "metadata": {}
        },
        {
          "output_type": "display_data",
          "data": {
            "text/plain": [
              "<PIL.Image.Image image mode=L size=70x70 at 0x7F5B1036BA90>"
            ],
            "image/png": "[encoded data removed]"
          },
          "metadata": {}
        },
        {
          "output_type": "display_data",
          "data": {
            "text/plain": [
              "<PIL.Image.Image image mode=L size=70x70 at 0x7F5B1036BA90>"
            ],
            "image/png": "[encoded data removed]"
          },
          "metadata": {}
        },
        {
          "output_type": "display_data",
          "data": {
            "text/plain": [
              "<PIL.Image.Image image mode=L size=70x70 at 0x7F5B1036BA90>"
            ],
            "image/png": "[encoded data removed]"
          },
          "metadata": {}
        },
        {
          "output_type": "display_data",
          "data": {
            "text/plain": [
              "<PIL.Image.Image image mode=L size=70x70 at 0x7F5B1036BA90>"
            ],
            "image/png": "[encoded data removed]"
          },
          "metadata": {}
        },
        {
          "output_type": "display_data",
          "data": {
            "text/plain": [
              "<PIL.Image.Image image mode=L size=70x70 at 0x7F5B1036BA90>"
            ],
            "image/png": "[encoded data removed]"
          },
          "metadata": {}
        },
        {
          "output_type": "display_data",
          "data": {
            "text/plain": [
              "<PIL.Image.Image image mode=L size=70x70 at 0x7F5B1036BA90>"
            ],
            "image/png": "[encoded data removed]"
          },
          "metadata": {}
        },
        {
          "output_type": "display_data",
          "data": {
            "text/plain": [
              "<PIL.Image.Image image mode=L size=70x70 at 0x7F5B1036BA90>"
            ],
            "image/png": "[encoded data removed]"
          },
          "metadata": {}
        },
        {
          "output_type": "display_data",
          "data": {
            "text/plain": [
              "<PIL.Image.Image image mode=L size=70x70 at 0x7F5B1036BA90>"
            ],
            "image/png": "[encoded data removed]"
          },
          "metadata": {}
        },
        {
          "output_type": "display_data",
          "data": {
            "text/plain": [
              "<PIL.Image.Image image mode=L size=70x70 at 0x7F5B1036BA90>"
            ],
            "image/png": "[encoded data removed]"
          },
          "metadata": {}
        },
        {
          "output_type": "display_data",
          "data": {
            "text/plain": [
              "<PIL.Image.Image image mode=L size=70x70 at 0x7F5B1036BA90>"
            ],
            "image/png": "[encoded data removed]"
          },
          "metadata": {}
        },
        {
          "output_type": "display_data",
          "data": {
            "text/plain": [
              "<PIL.Image.Image image mode=L size=70x70 at 0x7F5B1036BA90>"
            ],
            "image/png": "[encoded data removed]"
          },
          "metadata": {}
        },
        {
          "output_type": "display_data",
          "data": {
            "text/plain": [
              "<PIL.Image.Image image mode=L size=70x70 at 0x7F5B1036BA90>"
            ],
            "image/png": "[encoded data removed]"
          },
          "metadata": {}
        },
        {
          "output_type": "display_data",
          "data": {
            "text/plain": [
              "<PIL.Image.Image image mode=L size=70x70 at 0x7F5B1036BA90>"
            ],
            "image/png": "[encoded data removed]"
          },
          "metadata": {}
        },
        {
          "output_type": "display_data",
          "data": {
            "text/plain": [
              "<PIL.Image.Image image mode=L size=70x70 at 0x7F5B1036BA90>"
            ],
            "image/png": "[encoded data removed]"
          },
          "metadata": {}
        },
        {
          "output_type": "display_data",
          "data": {
            "text/plain": [
              "<PIL.Image.Image image mode=L size=70x70 at 0x7F5B1036BA90>"
            ],
            "image/png": "[encoded data removed]"
          },
          "metadata": {}
        },
        {
          "output_type": "display_data",
          "data": {
            "text/plain": [
              "<PIL.Image.Image image mode=L size=70x70 at 0x7F5B1036BA90>"
            ],
            "image/png": "[encoded data removed]"
          },
          "metadata": {}
        },
        {
          "output_type": "display_data",
          "data": {
            "text/plain": [
              "<PIL.Image.Image image mode=L size=70x70 at 0x7F5B1036BA90>"
            ],
            "image/png": "[encoded data removed]"
          },
          "metadata": {}
        },
        {
          "output_type": "display_data",
          "data": {
            "text/plain": [
              "<PIL.Image.Image image mode=L size=70x70 at 0x7F5B1036BA90>"
            ],
            "image/png": "[encoded data removed]"
          },
          "metadata": {}
        },
        {
          "output_type": "display_data",
          "data": {
            "text/plain": [
              "<PIL.Image.Image image mode=L size=70x70 at 0x7F5B1036BA90>"
            ],
            "image/png": "[encoded data removed]"
          },
          "metadata": {}
        },
        {
          "output_type": "display_data",
          "data": {
            "text/plain": [
              "<PIL.Image.Image image mode=L size=70x70 at 0x7F5B1036BA90>"
            ],
            "image/png": "[encoded data removed]"
          },
          "metadata": {}
        },
        {
          "output_type": "display_data",
          "data": {
            "text/plain": [
              "<PIL.Image.Image image mode=L size=70x70 at 0x7F5B1036BA90>"
            ],
            "image/png": "[encoded data removed]"
          },
          "metadata": {}
        },
        {
          "output_type": "display_data",
          "data": {
            "text/plain": [
              "<PIL.Image.Image image mode=L size=70x70 at 0x7F5B1036BA90>"
            ],
            "image/png": "[encoded data removed]"
          },
          "metadata": {}
        },
        {
          "output_type": "display_data",
          "data": {
            "text/plain": [
              "<PIL.Image.Image image mode=L size=70x70 at 0x7F5B1036BA90>"
            ],
            "image/png": "[encoded data removed]"
          },
          "metadata": {}
        },
        {
          "output_type": "display_data",
          "data": {
            "text/plain": [
              "<PIL.Image.Image image mode=L size=70x70 at 0x7F5B1036BA90>"
            ],
            "image/png": "[encoded data removed]"
          },
          "metadata": {}
        },
        {
          "output_type": "display_data",
          "data": {
            "text/plain": [
              "<PIL.Image.Image image mode=L size=70x70 at 0x7F5B1036BA90>"
            ],
            "image/png": "[encoded data removed]"
          },
          "metadata": {}
        },
        {
          "output_type": "display_data",
          "data": {
            "text/plain": [
              "<PIL.Image.Image image mode=L size=70x70 at 0x7F5B1036BA90>"
            ],
            "image/png": "[encoded data removed]"
          },
          "metadata": {}
        },
        {
          "output_type": "display_data",
          "data": {
            "text/plain": [
              "<PIL.Image.Image image mode=L size=70x70 at 0x7F5B1036BA90>"
            ],
            "image/png": "[encoded data removed]"
          },
          "metadata": {}
        },
        {
          "output_type": "display_data",
          "data": {
            "text/plain": [
              "<PIL.Image.Image image mode=L size=70x70 at 0x7F5B1036BA90>"
            ],
            "image/png": "[encoded data removed]"
          },
          "metadata": {}
        },
        {
          "output_type": "display_data",
          "data": {
            "text/plain": [
              "<PIL.Image.Image image mode=L size=70x70 at 0x7F5B1036BA90>"
            ],
            "image/png": "[encoded data removed]"
          },
          "metadata": {}
        },
        {
          "output_type": "display_data",
          "data": {
            "text/plain": [
              "<PIL.Image.Image image mode=L size=70x70 at 0x7F5B1036BA90>"
            ],
            "image/png": "[encoded data removed]"
          },
          "metadata": {}
        },
        {
          "output_type": "display_data",
          "data": {
            "text/plain": [
              "<PIL.Image.Image image mode=L size=70x70 at 0x7F5B1036BA90>"
            ],
            "image/png": "[encoded data removed]"
          },
          "metadata": {}
        },
        {
          "output_type": "display_data",
          "data": {
            "text/plain": [
              "<PIL.Image.Image image mode=L size=70x70 at 0x7F5B1036BA90>"
            ],
            "image/png": "[encoded data removed]"
          },
          "metadata": {}
        },
        {
          "output_type": "display_data",
          "data": {
            "text/plain": [
              "<PIL.Image.Image image mode=L size=70x70 at 0x7F5B1036BA90>"
            ],
            "image/png": "[encoded data removed]"
          },
          "metadata": {}
        },
        {
          "output_type": "display_data",
          "data": {
            "text/plain": [
              "<PIL.Image.Image image mode=L size=70x70 at 0x7F5B1036BA90>"
            ],
            "image/png": "[encoded data removed]"
          },
          "metadata": {}
        },
        {
          "output_type": "display_data",
          "data": {
            "text/plain": [
              "<PIL.Image.Image image mode=L size=70x70 at 0x7F5B1036BA90>"
            ],
            "image/png": "[encoded data removed]"
          },
          "metadata": {}
        },
        {
          "output_type": "display_data",
          "data": {
            "text/plain": [
              "<PIL.Image.Image image mode=L size=70x70 at 0x7F5B1036BA90>"
            ],
            "image/png": "[encoded data removed]"
          },
          "metadata": {}
        },
        {
          "output_type": "display_data",
          "data": {
            "text/plain": [
              "<PIL.Image.Image image mode=L size=70x70 at 0x7F5B1036BA90>"
            ],
            "image/png": "[encoded data removed]"
          },
          "metadata": {}
        },
        {
          "output_type": "display_data",
          "data": {
            "text/plain": [
              "<PIL.Image.Image image mode=L size=70x70 at 0x7F5B1036BA90>"
            ],
            "image/png": "[encoded data removed]"
          },
          "metadata": {}
        },
        {
          "output_type": "display_data",
          "data": {
            "text/plain": [
              "<PIL.Image.Image image mode=L size=70x70 at 0x7F5B1036BA90>"
            ],
            "image/png": "[encoded data removed]"
          },
          "metadata": {}
        },
        {
          "output_type": "display_data",
          "data": {
            "text/plain": [
              "<PIL.Image.Image image mode=L size=70x70 at 0x7F5B1036BA90>"
            ],
            "image/png": "[encoded data removed]"
          },
          "metadata": {}
        },
        {
          "output_type": "display_data",
          "data": {
            "text/plain": [
              "<PIL.Image.Image image mode=L size=70x70 at 0x7F5B1036BA90>"
            ],
            "image/png": "[encoded data removed]"
          },
          "metadata": {}
        },
        {
          "output_type": "display_data",
          "data": {
            "text/plain": [
              "<PIL.Image.Image image mode=L size=70x70 at 0x7F5B1036BA90>"
            ],
            "image/png": "[encoded data removed]"
          },
          "metadata": {}
        },
        {
          "output_type": "display_data",
          "data": {
            "text/plain": [
              "<PIL.Image.Image image mode=L size=70x70 at 0x7F5B1036BA90>"
            ],
            "image/png": "[encoded data removed]"
          },
          "metadata": {}
        },
        {
          "output_type": "display_data",
          "data": {
            "text/plain": [
              "<PIL.Image.Image image mode=L size=70x70 at 0x7F5B1036BA90>"
            ],
            "image/png": "[encoded data removed]"
          },
          "metadata": {}
        },
        {
          "output_type": "display_data",
          "data": {
            "text/plain": [
              "<PIL.Image.Image image mode=L size=70x70 at 0x7F5B1036BA90>"
            ],
            "image/png": "[encoded data removed]"
          },
          "metadata": {}
        },
        {
          "output_type": "display_data",
          "data": {
            "text/plain": [
              "<PIL.Image.Image image mode=L size=70x70 at 0x7F5B1036BA90>"
            ],
            "image/png": "[encoded data removed]"
          },
          "metadata": {}
        },
        {
          "output_type": "display_data",
          "data": {
            "text/plain": [
              "<PIL.Image.Image image mode=L size=70x70 at 0x7F5B1036BA90>"
            ],
            "image/png": "[encoded data removed]"
          },
          "metadata": {}
        },
        {
          "output_type": "display_data",
          "data": {
            "text/plain": [
              "<PIL.Image.Image image mode=L size=70x70 at 0x7F5B1036BA90>"
            ],
            "image/png": "[encoded data removed]"
          },
          "metadata": {}
        },
        {
          "output_type": "display_data",
          "data": {
            "text/plain": [
              "<PIL.Image.Image image mode=L size=70x70 at 0x7F5B1036BA90>"
            ],
            "image/png": "[encoded data removed]"
          },
          "metadata": {}
        },
        {
          "output_type": "display_data",
          "data": {
            "text/plain": [
              "<PIL.Image.Image image mode=L size=70x70 at 0x7F5B1036BA90>"
            ],
            "image/png": "[encoded data removed]"
          },
          "metadata": {}
        },
        {
          "output_type": "display_data",
          "data": {
            "text/plain": [
              "<PIL.Image.Image image mode=L size=70x70 at 0x7F5B1036BA90>"
            ],
            "image/png": "[encoded data removed]"
          },
          "metadata": {}
        },
        {
          "output_type": "display_data",
          "data": {
            "text/plain": [
              "<PIL.Image.Image image mode=L size=70x70 at 0x7F5B1036BA90>"
            ],
            "image/png": "[encoded data removed]"
          },
          "metadata": {}
        },
        {
          "output_type": "display_data",
          "data": {
            "text/plain": [
              "<PIL.Image.Image image mode=L size=70x70 at 0x7F5B1036BA90>"
            ],
            "image/png": "[encoded data removed]"
          },
          "metadata": {}
        },
        {
          "output_type": "display_data",
          "data": {
            "text/plain": [
              "<PIL.Image.Image image mode=L size=70x70 at 0x7F5B1036BA90>"
            ],
            "image/png": "[encoded data removed]"
          },
          "metadata": {}
        },
        {
          "output_type": "display_data",
          "data": {
            "text/plain": [
              "<PIL.Image.Image image mode=L size=70x70 at 0x7F5B1036BA90>"
            ],
            "image/png": "[encoded data removed]"
          },
          "metadata": {}
        },
        {
          "output_type": "display_data",
          "data": {
            "text/plain": [
              "<PIL.Image.Image image mode=L size=70x70 at 0x7F5B1036BA90>"
            ],
            "image/png": "[encoded data removed]"
          },
          "metadata": {}
        },
        {
          "output_type": "display_data",
          "data": {
            "text/plain": [
              "<PIL.Image.Image image mode=L size=70x70 at 0x7F5B1036BA90>"
            ],
            "image/png": "[encoded data removed]"
          },
          "metadata": {}
        },
        {
          "output_type": "display_data",
          "data": {
            "text/plain": [
              "<PIL.Image.Image image mode=L size=70x70 at 0x7F5B1036BA90>"
            ],
            "image/png": "[encoded data removed]"
          },
          "metadata": {}
        },
        {
          "output_type": "display_data",
          "data": {
            "text/plain": [
              "<PIL.Image.Image image mode=L size=70x70 at 0x7F5B1036BA90>"
            ],
            "image/png": "[encoded data removed]"
          },
          "metadata": {}
        },
        {
          "output_type": "display_data",
          "data": {
            "text/plain": [
              "<PIL.Image.Image image mode=L size=70x70 at 0x7F5B1036BA90>"
            ],
            "image/png": "[encoded data removed]"
          },
          "metadata": {}
        },
        {
          "output_type": "display_data",
          "data": {
            "text/plain": [
              "<PIL.Image.Image image mode=L size=70x70 at 0x7F5B1036BA90>"
            ],
            "image/png": "[encoded data removed]"
          },
          "metadata": {}
        }
      ]
    }
  ]
}